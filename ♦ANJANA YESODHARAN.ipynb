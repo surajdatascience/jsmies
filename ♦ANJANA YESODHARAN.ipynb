{
 "cells": [
  {
   "attachments": {
    "image.png": {
     "image/png": "[encoded data removed]"
    }
   },
   "cell_type": "markdown",
   "id": "cef2368d",
   "metadata": {},
   "source": [
    "![image.png](attachment:image.png)"
   ]
  },
  {
   "cell_type": "markdown",
   "id": "5229ea73",
   "metadata": {},
   "source": [
    "geekforgeeks stack "
   ]
  },
  {
   "cell_type": "markdown",
   "id": "12a2e441",
   "metadata": {},
   "source": [
    "Programs for Printing Pyramid Patterns using Recursion"
   ]
  },
  {
   "cell_type": "markdown",
   "id": "8402a69c",
   "metadata": {},
   "source": [
    "Make a perfect Pyramid by printing letters of a given String"
   ]
  },
  {
   "cell_type": "code",
   "execution_count": null,
   "id": "44edafc6",
   "metadata": {},
   "outputs": [],
   "source": [
    "def contalpha(n):\n",
    " \n",
    "    # initializing value corresponding to 'A'\n",
    "    # ASCII value\n",
    "    num = 65\n",
    " \n",
    " \n",
    "    # outer loop to handle number of rows\n",
    "- for i in range(0, n):\n",
    " \n",
    "    # inner loop to handle number of columns\n",
    "    # values changing acc. to outer loop\n",
    "    for j in range(0, i+1):\n",
    " \n",
    "        # explicitly converting to char\n",
    "        ch = chr(num)\n",
    " \n",
    "        # printing char value\n",
    "        print(ch, end=\" \")\n",
    " \n",
    "        # incrementing at each column\n",
    "        num = num + 1\n",
    " \n",
    "    # ending line after each row\n",
    "    print(\"\\r\")\n",
    " \n",
    "# Driver code\n",
    "n = 5\n",
    "contalpha(n)"
   ]
  },
  {
   "cell_type": "code",
   "execution_count": null,
   "id": "3e1d2997",
   "metadata": {},
   "outputs": [],
   "source": [
    "# Python 3.x code to demonstrate star pattern\n",
    " \n",
    "# Function to demonstrate printing pattern of alphabets\n",
    "def alphapat(n):\n",
    "     \n",
    "    # initializing value corresponding to 'A'\n",
    "    # ASCII value\n",
    "    num = 65\n",
    " \n",
    "    # outer loop to handle number of rows\n",
    "    # 5 in this case\n",
    "    for i in range(0, n):\n",
    "     \n",
    "        # inner loop to handle number of columns\n",
    "        # values changing acc. to outer loop\n",
    "        for j in range(0, i+1):\n",
    "         \n",
    "            # explicitly converting to char\n",
    "            ch = chr(num)\n",
    "         \n",
    "            # printing char value\n",
    "            print(ch, end=\" \")\n",
    "     \n",
    "        # incrementing number\n",
    "        num = num + 1\n",
    "     \n",
    "        # ending line after each row\n",
    "        print(\"\\r\")\n",
    " \n",
    "# Driver Code\n",
    "n = 5\n",
    "alphapat(n)"
   ]
  },
  {
   "cell_type": "code",
   "execution_count": null,
   "id": "a86c2a02",
   "metadata": {},
   "outputs": [],
   "source": [
    "# Python 3.x code to demonstrate star pattern\n",
    " \n",
    "# Function to demonstrate printing pattern of numbers\n",
    "def contnum(n):\n",
    "     \n",
    "    # initializing starting number\n",
    "    num = 1\n",
    " \n",
    "    # outer loop to handle number of rows\n",
    "    for i in range(0, n):\n",
    "     \n",
    "        # not re assigning num\n",
    "        # num = 1\n",
    "     \n",
    "        # inner loop to handle number of columns\n",
    "        # values changing acc. to outer loop\n",
    "        for j in range(0, i+1):\n",
    "         \n",
    "            # printing number\n",
    "            print(num, end=\" \")\n",
    "         \n",
    "            # incrementing number at each column\n",
    "            num = num + 1\n",
    "     \n",
    "        # ending line after each row\n",
    "        print(\"\\r\")\n",
    " \n",
    "n = 5\n",
    " \n",
    "# sending 5 as argument\n",
    "# calling Function\n",
    "contnum(n)"
   ]
  },
  {
   "cell_type": "code",
   "execution_count": null,
   "id": "3a0ca2a5",
   "metadata": {},
   "outputs": [],
   "source": [
    "# Python 3.x code to demonstrate star pattern\n",
    " \n",
    "# Function to demonstrate printing pattern of numbers\n",
    "def numpat(n):\n",
    "     \n",
    "    # initialising starting number\n",
    "    num = 1\n",
    " \n",
    "    # outer loop to handle number of rows\n",
    "    for i in range(0, n):\n",
    "     \n",
    "        # re assigning num\n",
    "        num = 1\n",
    "     \n",
    "        # inner loop to handle number of columns\n",
    "            # values changing acc. to outer loop\n",
    "        for j in range(0, i+1):\n",
    "         \n",
    "                # printing number\n",
    "            print(num, end=\" \")\n",
    "         \n",
    "            # incrementing number at each column\n",
    "            num = num + 1\n",
    "     \n",
    "        # ending line after each row\n",
    "        print(\"\\r\")\n",
    " \n",
    "# Driver code\n",
    "n = 5\n",
    "numpat(n)"
   ]
  },
  {
   "cell_type": "code",
   "execution_count": null,
   "id": "6b04afed",
   "metadata": {},
   "outputs": [],
   "source": [
    "# Python 3.x code to demonstrate star pattern\n",
    " \n",
    "# Function to demonstrate printing pattern triangle\n",
    "def triangle(n):\n",
    "     \n",
    "    # number of spaces\n",
    "    k = n - 1\n",
    " \n",
    "    # outer loop to handle number of rows\n",
    "    for i in range(0, n):\n",
    "     \n",
    "        # inner loop to handle number spaces\n",
    "        # values changing acc. to requirement\n",
    "        for j in range(0, k):\n",
    "            print(end=\" \")\n",
    "     \n",
    "        # decrementing k after each loop\n",
    "        k = k - 1\n",
    "     \n",
    "        # inner loop to handle number of columns\n",
    "        # values changing acc. to outer loop\n",
    "        for j in range(0, i+1):\n",
    "         \n",
    "            # printing stars\n",
    "            print(\"* \", end=\"\")\n",
    "     \n",
    "        # ending line after each row\n",
    "        print(\"\\r\")\n",
    " \n",
    "# Driver Code\n",
    "n = 5\n",
    "triangle(n)"
   ]
  },
  {
   "cell_type": "code",
   "execution_count": null,
   "id": "18c8ffef",
   "metadata": {},
   "outputs": [],
   "source": [
    "#python3 code to implement above approach\n",
    "height = 5\n",
    "for row in range(1, height+ 1):\n",
    "    print(\" \" * (height - row) +\"*\" * row)\n",
    "#thi"
   ]
  },
  {
   "cell_type": "code",
   "execution_count": null,
   "id": "93aa3df4",
   "metadata": {},
   "outputs": [],
   "source": [
    "# python3 code to print pyramid pattern using while loop\n",
    "n=5;i=0\n",
    "while(i<=n):\n",
    "  print(\" \" * (n - i) +\"*\" * i)\n",
    "  i+=1"
   ]
  },
  {
   "cell_type": "code",
   "execution_count": null,
   "id": "a7821f60",
   "metadata": {},
   "outputs": [],
   "source": [
    "# Python 3.x code to demonstrate star pattern\n",
    " \n",
    "# Function to demonstrate printing pattern\n",
    "def pypart2(n):\n",
    "     \n",
    "    # number of spaces\n",
    "    k = 2*n - 2\n",
    " \n",
    "    # outer loop to handle number of rows\n",
    "    for i in range(0, n):\n",
    "     \n",
    "        # inner loop to handle number spaces\n",
    "        # values changing acc. to requirement\n",
    "        for j in range(0, k):\n",
    "            print(end=\" \")\n",
    "     \n",
    "        # decrementing k after each loop\n",
    "        k = k - 2\n",
    "     \n",
    "        # inner loop to handle number of columns\n",
    "        # values changing acc. to outer loop\n",
    "        for j in range(0, i+1):\n",
    "         \n",
    "            # printing stars\n",
    "            print(\"* \", end=\"\")\n",
    "     \n",
    "        # ending line after each row\n",
    "        print(\"\\r\")\n",
    " \n",
    "# Driver Code\n",
    "n = 5\n",
    "pypart2(n)"
   ]
  },
  {
   "cell_type": "code",
   "execution_count": null,
   "id": "5da6ba0b",
   "metadata": {},
   "outputs": [],
   "source": [
    "\n",
    "# python3 code to print pyramid pattern using while loop\n",
    " \n",
    "# input\n",
    "n=5\n",
    " \n",
    "i=1;j=0\n",
    "# while loop check the condition until the\n",
    "# condition become false. if it is true then\n",
    "# enter in to loop and print the pattern\n",
    "while(i<=n):\n",
    "    while(j<=i-1):\n",
    "        print(\"* \",end=\"\")\n",
    "        j+=1\n",
    "     # printing next line for each row\n",
    "    print(\"\\r\")\n",
    "    j=0;i+=1"
   ]
  },
  {
   "cell_type": "code",
   "execution_count": null,
   "id": "6b11b718",
   "metadata": {},
   "outputs": [],
   "source": [
    "#python3 code to print pyramid pattern using recursion\n",
    "def pypart(n):\n",
    "    if n==0:\n",
    "        return\n",
    "    else:\n",
    "        pypart(n-1)\n",
    "        print(\"* \"*n)\n",
    "  \n",
    "# Driver Code\n",
    "n = 5\n",
    "pypart(n)"
   ]
  },
  {
   "cell_type": "code",
   "execution_count": null,
   "id": "0fc4292a",
   "metadata": {},
   "outputs": [],
   "source": [
    "# Python 3.x code to demonstrate star pattern\n",
    " \n",
    "# Function to demonstrate printing pattern\n",
    "def pypart(n):\n",
    "    myList = []\n",
    "    for i in range(1,n+1):\n",
    "        myList.append(\"*\"*i)\n",
    "    print(\"\\n\".join(myList))\n",
    " \n",
    "# Driver Code\n",
    "n = 5\n",
    "pypart(n)"
   ]
  },
  {
   "cell_type": "code",
   "execution_count": null,
   "id": "9a549c2b",
   "metadata": {},
   "outputs": [],
   "source": [
    "# Python 3.x code to demonstrate star pattern\n",
    " \n",
    "# Function to demonstrate printing pattern\n",
    "def pypart(n):\n",
    "     \n",
    "    # outer loop to handle number of rows\n",
    "    # n in this case\n",
    "    for i in range(0, n):\n",
    "     \n",
    "        # inner loop to handle number of columns\n",
    "        # values changing acc. to outer loop\n",
    "        for j in range(0, i+1):\n",
    "         \n",
    "            # printing stars\n",
    "            print(\"* \",end=\"\")\n",
    "      \n",
    "        # ending line after each row\n",
    "        print(\"\\r\")\n",
    " \n",
    "# Driver Code\n",
    "n = 5\n",
    "pypart(n)"
   ]
  },
  {
   "cell_type": "markdown",
   "id": "ef1662e0",
   "metadata": {},
   "source": [
    "# Lab Exam Questions"
   ]
  },
  {
   "cell_type": "code",
   "execution_count": null,
   "id": "ee206e8c",
   "metadata": {},
   "outputs": [],
   "source": [
    "Reverse a Number using Recursion\n",
    "Num = int(input(\"Please Enter any Number: \"))\n",
    "Result = 0\n",
    "def Result_Int(Num):\n",
    "    global Result\n",
    "    if(Num > 0):\n",
    "        Reminder = Num %10\n",
    "        Result = (Result *10) + Reminder\n",
    "        Result_Int(Num //10)\n",
    "   return Result\n",
    "Result = Result_Int(Num)\n",
    "Result"
   ]
  },
  {
   "cell_type": "code",
   "execution_count": null,
   "id": "fdb9a717",
   "metadata": {},
   "outputs": [],
   "source": [
    "L1=['Hello','Take']\n",
    "L2=['Dear','Sir']\n",
    "a=[]\n",
    "for i in L1:\n",
    "    for j in L2:\n",
    "        x=i+j\n",
    "        a.append(x)"
   ]
  },
  {
   "cell_type": "code",
   "execution_count": 1,
   "id": "3783a003",
   "metadata": {},
   "outputs": [],
   "source": [
    "def freq(str1):\n",
    "    dict1={}\n",
    "    for i in str1:\n",
    "        dict1[i]=str1.count(i)\n",
    "    return dict1"
   ]
  },
  {
   "cell_type": "markdown",
   "id": "a1c952a4",
   "metadata": {},
   "source": [
    "##### ►calling"
   ]
  },
  {
   "cell_type": "code",
   "execution_count": 2,
   "id": "ab42c265",
   "metadata": {},
   "outputs": [
    {
     "data": {
      "text/plain": [
       "{'g': 2, 'o': 3, 'l': 1, 'e': 1, '.': 1, 'c': 1, 'm': 1}"
      ]
     },
     "execution_count": 2,
     "metadata": {},
     "output_type": "execute_result"
    }
   ],
   "source": [
    "freq(\"google.com\")"
   ]
  },
  {
   "cell_type": "markdown",
   "id": "4069dc0b",
   "metadata": {},
   "source": [
    "##### Write a Python program to get a string made of the first 2 and last 2 characters of a  given string. If the string length is less than 2, return the  empty string instead."
   ]
  },
  {
   "cell_type": "code",
   "execution_count": 3,
   "id": "af6a2510",
   "metadata": {
    "scrolled": false
   },
   "outputs": [],
   "source": [
    "def string_both_ends(str1):\n",
    "    \n",
    "    \n",
    "    if len(str1)<2:\n",
    "     pass\n",
    "\n",
    "    return str1[:2]+str1[-2:]\n",
    "\n",
    "\n"
   ]
  },
  {
   "cell_type": "markdown",
   "id": "7119f8e7",
   "metadata": {},
   "source": [
    "##### calling"
   ]
  },
  {
   "cell_type": "code",
   "execution_count": 4,
   "id": "1df610e2",
   "metadata": {},
   "outputs": [
    {
     "name": "stdout",
     "output_type": "stream",
     "text": [
      "w3ce\n",
      "w3w3\n",
      "ww\n"
     ]
    }
   ],
   "source": [
    "print(string_both_ends('w3resource'))\n",
    "print(string_both_ends('w3'))\n",
    "print(string_both_ends('w'))"
   ]
  },
  {
   "cell_type": "markdown",
   "id": "79082dc4",
   "metadata": {},
   "source": [
    "##### Write a Python program to get a string from a given string where all occurrences of its first char have been changed $\n"
   ]
  },
  {
   "cell_type": "code",
   "execution_count": 5,
   "id": "3b2c909c",
   "metadata": {},
   "outputs": [
    {
     "name": "stdout",
     "output_type": "stream",
     "text": [
      "resta$t\n"
     ]
    }
   ],
   "source": [
    "\n",
    "    \n",
    "    str1=\"restart\"\n",
    "    \n",
    "    first = str1[0]\n",
    "    \n",
    "    \n",
    "    str1 = str1.replace(first, '$') # $esta$t\n",
    "    \n",
    "    \n",
    "    str1 = first + str1[1:] #slicing  esta$t\n",
    "\n",
    "    \n",
    "    print( str1)\n",
    "\n"
   ]
  },
  {
   "cell_type": "markdown",
   "id": "e0693879",
   "metadata": {},
   "source": [
    "##### ►calling"
   ]
  },
  {
   "cell_type": "code",
   "execution_count": null,
   "id": "57a8bd2b",
   "metadata": {},
   "outputs": [],
   "source": [
    "r\n",
    "estart "
   ]
  },
  {
   "cell_type": "code",
   "execution_count": 7,
   "id": "7ca82291",
   "metadata": {},
   "outputs": [
    {
     "name": "stdout",
     "output_type": "stream",
     "text": [
      "resta$t\n"
     ]
    }
   ],
   "source": [
    "print(replaceletter('restart'))"
   ]
  },
  {
   "cell_type": "markdown",
   "id": "2af20a1a",
   "metadata": {},
   "source": [
    "##### Write a Python program to get a single string from two given strings, separated by a space and swap the first two characters of each string."
   ]
  },
  {
   "cell_type": "code",
   "execution_count": 1,
   "id": "6f2d1d01",
   "metadata": {},
   "outputs": [],
   "source": [
    "def stringmix(str1,str2):\n",
    "   \n",
    "   \n",
    "\n",
    "  return str2[:2] + str1[2:] + ' ' + str1[:2] + str2[2:]\n"
   ]
  },
  {
   "cell_type": "markdown",
   "id": "8ba0c81b",
   "metadata": {},
   "source": [
    "##### calling"
   ]
  },
  {
   "cell_type": "code",
   "execution_count": 2,
   "id": "044382e0",
   "metadata": {},
   "outputs": [
    {
     "name": "stdout",
     "output_type": "stream",
     "text": [
      "xyc abz\n"
     ]
    }
   ],
   "source": [
    "print(stringmix('abc', 'xyz'))"
   ]
  },
  {
   "cell_type": "markdown",
   "id": "b088de4b",
   "metadata": {},
   "source": [
    "##### 5.Write a Python program to check whether a list contains a sub-list."
   ]
  },
  {
   "cell_type": "code",
   "execution_count": null,
   "id": "6a253efc",
   "metadata": {},
   "outputs": [],
   "source": [
    "def check_sublist_recursive(, sublist):\n",
    "    if len(sublist) == 0:\n",
    "        return True\n",
    "    if len(test_list) == 0:\n",
    "        return False\n",
    "    if test_list[0] == sublist[0]:\n",
    "        return check_sublist_recursive(test_list[1:], sublist[1:])\n",
    "    else:\n",
    "        return check_sublist_recursive(test_list[1:], sublist)\n",
    "\n",
    "list = [5, 6, 3, 8, 2, 1, 7, 1]\n",
    "testlist = [8, 2, 1]\n",
    "res = check_sublist_recursive(list, sublist)"
   ]
  },
  {
   "cell_type": "code",
   "execution_count": null,
   "id": "1de102f3",
   "metadata": {},
   "outputs": [],
   "source": []
  },
  {
   "cell_type": "code",
   "execution_count": null,
   "id": "13ec1fad",
   "metadata": {},
   "outputs": [],
   "source": [
    "print(\"Is sublist present in list ? : \" + str(res))"
   ]
  },
  {
   "cell_type": "code",
   "execution_count": null,
   "id": "1b61263f",
   "metadata": {},
   "outputs": [],
   "source": []
  },
  {
   "cell_type": "code",
   "execution_count": null,
   "id": "81a255b0",
   "metadata": {},
   "outputs": [],
   "source": []
  },
  {
   "cell_type": "code",
   "execution_count": null,
   "id": "70a1de1b",
   "metadata": {},
   "outputs": [],
   "source": []
  },
  {
   "cell_type": "code",
   "execution_count": null,
   "id": "f15b8941",
   "metadata": {},
   "outputs": [],
   "source": []
  },
  {
   "cell_type": "code",
   "execution_count": null,
   "id": "104a8ff0",
   "metadata": {},
   "outputs": [],
   "source": []
  },
  {
   "cell_type": "code",
   "execution_count": null,
   "id": "ec9d93f5",
   "metadata": {},
   "outputs": [],
   "source": []
  },
  {
   "cell_type": "markdown",
   "id": "18084ee4",
   "metadata": {},
   "source": [
    "# matrix"
   ]
  },
  {
   "cell_type": "code",
   "execution_count": null,
   "id": "94e7b0b3",
   "metadata": {},
   "outputs": [],
   "source": [
    "X = [[1,2,3],\n",
    "    [4 ,5,6],\n",
    "    [7 ,8,9]]\n",
    "  \n",
    "Y = [[9,8,7],\n",
    "    [6,5,4],\n",
    "    [3,2,1]]\n",
    " \n",
    "result = [[X[i][j] + Y[i][j]  for j in range(len(X[0]))] for i in range(len(X))]\n",
    "  "
   ]
  },
  {
   "cell_type": "code",
   "execution_count": null,
   "id": "04a2543b",
   "metadata": {},
   "outputs": [],
   "source": [
    "result"
   ]
  },
  {
   "cell_type": "markdown",
   "id": "2fc0556e",
   "metadata": {},
   "source": [
    "### loop"
   ]
  },
  {
   "cell_type": "code",
   "execution_count": 8,
   "id": "2d53f6e2",
   "metadata": {},
   "outputs": [
    {
     "name": "stdout",
     "output_type": "stream",
     "text": [
      "[5, 6, 7]\n",
      "[5, 6, 7]\n",
      "[5, 6, 7]\n"
     ]
    }
   ],
   "source": [
    "\n",
    "L1=[5,6,7]\n",
    "for i in L1:\n",
    "    print(L1)"
   ]
  },
  {
   "cell_type": "markdown",
   "id": "b608ac98",
   "metadata": {},
   "source": [
    "# loop pic"
   ]
  },
  {
   "cell_type": "code",
   "execution_count": 12,
   "id": "ed1b6d39",
   "metadata": {},
   "outputs": [
    {
     "name": "stdout",
     "output_type": "stream",
     "text": [
      "😉\n",
      "😉\n",
      "😉\n",
      "😉\n",
      "😉\n",
      "😉\n",
      "😉\n",
      "😉\n",
      "😉\n",
      "😉\n",
      "😉\n",
      "😉\n",
      "😉\n",
      "😉\n",
      "😉\n",
      "😉\n",
      "😉\n",
      "😉\n"
     ]
    }
   ],
   "source": [
    "for i in range(6):\n",
    "    for j in range(3):\n",
    "        print (\"😉\")"
   ]
  },
  {
   "cell_type": "markdown",
   "id": "63d5d0eb",
   "metadata": {},
   "source": [
    "##### 18"
   ]
  },
  {
   "cell_type": "markdown",
   "id": "08ab6396",
   "metadata": {},
   "source": [
    "### Anagram"
   ]
  },
  {
   "cell_type": "code",
   "execution_count": null,
   "id": "06d3a521",
   "metadata": {},
   "outputs": [],
   "source": [
    "  str1 = str1.replace(\" \", \"\").lower()\n",
    "    str2 = str2.replace(\" \", \"\").lower()\n",
    "\n",
    "   \n",
    "    return sorted(str1) == sorted(str2)\n",
    "\n",
    "\n",
    "\n",
    "string1 = input(\"Enter the first string: \")\n",
    "string2 = input(\"Enter the second string: \")\n",
    "\n",
    "if check_anagram(string1, string2):\n",
    "    print(\"Anagrams.\")\n",
    "else:\n",
    "    print(\"Not Anagrams.\")"
   ]
  },
  {
   "cell_type": "code",
   "execution_count": null,
   "id": "02a42c37",
   "metadata": {},
   "outputs": [],
   "source": [
    "\"fibonacci check\"\n",
    "\n",
    "def fibonacci(L1):\n",
    "    if len(L1) < 3:\n",
    "        return False\n",
    "\n",
    "    if L1[0] != 0 or L1[1] != 1:\n",
    "        return False\n",
    "\n",
    "   \n",
    "    for i in range(2, len(L1)):\n",
    "       \n",
    "        if L1[i] != L1[i-1] + L1[i-2]:\n",
    "            return False\n",
    "\n",
    "    return True\n",
    "\n",
    "L1 = []\n",
    " \n",
    "# number of elements as input\n",
    "n = int(input(\"Enter number of elements : \"))\n",
    " \n",
    "# iterating till the range\n",
    "for i in range(0, n):\n",
    "    number = int(input())\n",
    "    # adding the element\n",
    "    L1.append(number)\n",
    "   \n",
    "   \n",
    "if fibonacci(L1):\n",
    "    print(\"Fibonacci.\")\n",
    "else:\n",
    "    print(\"Not a Fibonacci.\")"
   ]
  },
  {
   "cell_type": "code",
   "execution_count": null,
   "id": "e5faf888",
   "metadata": {},
   "outputs": [],
   "source": [
    "print fibonacci upto "
   ]
  },
  {
   "cell_type": "code",
   "execution_count": null,
   "id": "5e0cb780",
   "metadata": {},
   "outputs": [],
   "source": [
    "n1=0\n",
    "n2=1\n",
    "x=int(input('Enter A Number: '))\n",
    "for i in range(x):\n",
    "    print(n1)\n",
    "    n3=n1+n2\n",
    "    n1=n2\n",
    "    n2=n3"
   ]
  },
  {
   "cell_type": "code",
   "execution_count": null,
   "id": "30a32c48",
   "metadata": {},
   "outputs": [],
   "source": [
    "def upperlower(str1):\n",
    "    d={\"UPPER\":0, \"LOWER\":0}\n",
    "    for i in str1:\n",
    "        if i.isupper():\n",
    "           d[\"UPPER\"]+=1\n",
    "        elif i.islower():\n",
    "           d[\"LOWER\"]+=1\n",
    "        else:\n",
    "           pass\n",
    "    print (\"Lower case Characters : \", d[\"LOWER\"])\n",
    "         \n",
    "    print (\"UPPER case Characters : \", d[\"UPPER\"])\n",
    "\n",
    "\n",
    "upperlower('The quick Brown Fox')"
   ]
  },
  {
   "cell_type": "markdown",
   "id": "3666478b",
   "metadata": {},
   "source": [
    "#### 1.\n",
    "WRITE A PYTHON PROGRAM TO ADD TWO MATRICES USING NESTED FOR LOOP\n",
    "X=[[1,2,3], [4,5,6], [2,4,6]]\n",
    "Y=[[1,4,5], [3,6,9], [2,3,5]]"
   ]
  },
  {
   "cell_type": "code",
   "execution_count": 2,
   "id": "c24e3b5f",
   "metadata": {},
   "outputs": [],
   "source": [
    "X=[[1,2,3], [4,5,6], [2,4,6]] \n",
    "Y=[[1,4,5], [3,6,9], [2,3,5]]\n",
    "Sum=[[0,0,0], [0,0,0], [0,0,0]]"
   ]
  },
  {
   "cell_type": "code",
   "execution_count": 3,
   "id": "3dc94483",
   "metadata": {},
   "outputs": [],
   "source": [
    "for i in range(len(X)): #0 1 2\n",
    "     for j in range(len(X[2])): # 0 1 2 3\n",
    "        Sum[i][j] = X[i][j] + Y[i][j]"
   ]
  },
  {
   "cell_type": "code",
   "execution_count": 4,
   "id": "0ffdd937",
   "metadata": {},
   "outputs": [
    {
     "data": {
      "text/plain": [
       "[[2, 6, 8], [7, 11, 15], [4, 7, 11]]"
      ]
     },
     "execution_count": 4,
     "metadata": {},
     "output_type": "execute_result"
    }
   ],
   "source": [
    "Sum"
   ]
  },
  {
   "cell_type": "markdown",
   "id": "d4d4d905",
   "metadata": {},
   "source": [
    "#### 2.WRITE A PYTHON PROGRAM TO TRANSPOSE TWO MATRICES USING NESTED FORLOOP\n",
    "X=[[1,4,7], [2,3,5], [2,4,6]]\n",
    "Y=[[1,4,5], [3,6,9], [2,3,5]]"
   ]
  },
  {
   "cell_type": "code",
   "execution_count": 5,
   "id": "7bbd0d77",
   "metadata": {},
   "outputs": [
    {
     "name": "stdout",
     "output_type": "stream",
     "text": [
      "Transpose of X\n",
      "[1, 2, 2]\n",
      "[4, 3, 4]\n",
      "[7, 5, 6]\n",
      "Transpose of Y\n",
      "[1, 3, 2]\n",
      "[4, 6, 3]\n",
      "[5, 9, 5]\n"
     ]
    }
   ],
   "source": [
    "X=[[1,4,7], [2,3,5], [2,4,6]]\n",
    "Y=[[1,4,5], [3,6,9], [2,3,5]]\n",
    "\n",
    "TransposeX=[[0,0,0], [0,0,0], [0,0,0]]\n",
    "TransposeY=[[0,0,0], [0,0,0], [0,0,0]]\n",
    "\n",
    "for i in range(len(X)):\n",
    "    for j in range(len(X[0])):\n",
    "        TransposeX[j][i]=X[i][j]\n",
    "        \n",
    "for i in range(len(Y)):\n",
    "    for j in range(len(Y[0])):\n",
    "        TransposeY[j][i]=Y[i][j]\n",
    "print(\"Transpose of X\")\n",
    "for k in TransposeX:\n",
    "        print(k)\n",
    "print(\"Transpose of Y\")\n",
    "for k in TransposeY:\n",
    "        print(k)"
   ]
  },
  {
   "cell_type": "markdown",
   "id": "b8d3fe1d",
   "metadata": {},
   "source": [
    "#### 3. WRITE A PYTHON PROGRAM TO MULTIPLY TWO MATRICES USING NESTED FORLOOP"
   ]
  },
  {
   "cell_type": "code",
   "execution_count": null,
   "id": "a51f9078",
   "metadata": {},
   "outputs": [],
   "source": [
    "X=[[1,2,3], [4,5,6], [2,4,6]]\n",
    "Y=[[1,4,5,2], [3,6,9,5], [2,3,5,1]]\n",
    "\n",
    "pdt = [[0, 0, 0],[0, 0, 0],[0, 0, 0]]  \n",
    "for m in range(len(X)):    \n",
    "       for n in range(len(Y)): \n",
    "            for o in range(len(Y)):   \n",
    "            \n",
    "                pdt[m][n] += X[m][o] * Y[o][n]    \n",
    "                  \n",
    "for rows in pdt:    \n",
    "   print(rows)  \n"
   ]
  },
  {
   "cell_type": "markdown",
   "id": "ba822be8",
   "metadata": {},
   "source": [
    "#### Python program to convert the temperature in degree centigrade to Fahrenheit"
   ]
  },
  {
   "cell_type": "code",
   "execution_count": null,
   "id": "ec91a60a",
   "metadata": {},
   "outputs": [],
   "source": [
    "def conv(C):\n",
    "    F=(C*9/5)+32\n",
    "    return F\n",
    "\n",
    "C=float(input(\"Enter Temp in C\"))\n",
    "F=conv(C)\n",
    "print(\"Temp in F is\", F)"
   ]
  },
  {
   "cell_type": "markdown",
   "id": "125be8ab",
   "metadata": {},
   "source": [
    "#### Python program to find the sum of the digits of an integer using a while loop"
   ]
  },
  {
   "cell_type": "code",
   "execution_count": null,
   "id": "383b1427",
   "metadata": {},
   "outputs": [],
   "source": [
    "n=int(input(\"Enter a number:\"))\n",
    "\n",
    "Sum=0\n",
    "\n",
    "while(n>0):\n",
    "    rem=n%10 \n",
    "    Sum=Sum+rem\n",
    "    n=n//10\n",
    "    \n",
    "    \n",
    "print(\"The total sum of digits is:\",Sum)"
   ]
  },
  {
   "cell_type": "markdown",
   "id": "acb594b4",
   "metadata": {},
   "source": [
    "#### Rock Paper Scissor Game"
   ]
  },
  {
   "cell_type": "code",
   "execution_count": null,
   "id": "78d10f2f",
   "metadata": {},
   "outputs": [],
   "source": [
    "def determine_winner(player1, player2):\n",
    "    if player1 == player2:\n",
    "        return \"It's a tie!\"\n",
    "    elif (player1 == 'rock' and player2 == 'scissors') or \\\n",
    "         (player1 == 'scissors' and player2 == 'paper') or \\\n",
    "         (player1 == 'paper' and player2 == 'rock'):\n",
    "        return \"Player 1 wins! Congratulations to the winner\"\n",
    "    else:\n",
    "        return \"Player 2 wins! Congratulations to the winner\"\n",
    "\n",
    "def play_again():\n",
    "    response = input(\"Do you want to play again? (yes/no): \")\n",
    "    return response.lower() == 'yes'\n",
    "\n",
    "while True:\n",
    "   \n",
    "    player1_move = input(\"Player 1, enter your move (rock/paper/scissors): \")\n",
    "    player2_move = input(\"Player 2, enter your move (rock/paper/scissors): \")\n",
    "\n",
    "   \n",
    "    winner = determine_winner(player1_move, player2_move)\n",
    "\n",
    "\n",
    "    print(winner)\n",
    "\n",
    " \n",
    "    if not play_again():\n",
    "        break"
   ]
  },
  {
   "cell_type": "code",
   "execution_count": null,
   "id": "dc7e3ab9",
   "metadata": {},
   "outputs": [],
   "source": [
    "items=[n for n in input().split('-')]\n",
    "items.sort()\n",
    "print('-'.join(items))"
   ]
  },
  {
   "cell_type": "code",
   "execution_count": null,
   "id": "91954598",
   "metadata": {},
   "outputs": [],
   "source": [
    "\n",
    "        \n",
    "# Python 3.x code to demonstrate star pattern\n",
    " \n",
    "# Function to demonstrate printing pattern of numbers\n",
    "def contnum(n):\n",
    "     \n",
    "    # initializing starting number\n",
    "    num = 1\n",
    " \n",
    "    # outer loop to handle number of rows\n",
    "    for i in range(0, n):\n",
    "     \n",
    "        # not re assigning num\n",
    "        # num = 1\n",
    "     \n",
    "        # inner loop to handle number of columns\n",
    "        # values changing acc. to outer loop\n",
    "        for j in range(0, i+1):\n",
    "         \n",
    "            # printing number\n",
    "            print(num, end=\" \")\n",
    "         \n",
    "            # incrementing number at each column\n",
    "            num = num + 1\n",
    "     \n",
    "        # ending line after each row\n",
    "        print(\"\\r\")\n",
    " \n",
    "n = 5\n",
    " \n",
    "# sending 5 as argument\n",
    "# calling Function\n",
    "contnum(n)"
   ]
  },
  {
   "cell_type": "code",
   "execution_count": null,
   "id": "42972dfb",
   "metadata": {},
   "outputs": [],
   "source": [
    "\n",
    "def poor(frase):\n",
    "    Snot = frase.find('not')\n",
    "    Spoor = frase.find('poor')\n",
    "\n",
    "    if Spoor > Snot and Spoor > 0 and Snot > 0:\n",
    "        frase = frase.replace(frase[Snot:Spoor+4], 'good')\n",
    "        return frase\n",
    "    else:\n",
    "        return frase\n",
    "\n",
    "frase = input(' frase: ')\n",
    "print(poor(frase))"
   ]
  },
  {
   "cell_type": "code",
   "execution_count": null,
   "id": "166ee7c9",
   "metadata": {},
   "outputs": [],
   "source": [
    "1.Write a function called fizz buzz that takes a number.\n",
    "1.If the number is divisible by 3, it should return “Fizz”.\n",
    "2.If it is divisible by 5, it should return “Buzz”.\n",
    "3.If it is divisible by both 3 and 5, it should return “FizzBuzz”.\n",
    "4.Otherwise, it should return the same number."
   ]
  },
  {
   "cell_type": "code",
   "execution_count": null,
   "id": "cd004c82",
   "metadata": {},
   "outputs": [],
   "source": [
    "def fizz_buzz(n):\n",
    "    n = []\n",
    "    for nums in n:\n",
    "        if nums % 5 == 0 and nums % 3 == 0:\n",
    "            print(\"fizz buzz\")\n",
    "        elif nums % 3 == 0:\n",
    "            print(\"fizz\")\n",
    "        elif nums % 5 == 0:\n",
    "            print(\"buzz\")\n",
    "        elif nums % 3 != 0 and nums % 5 != 0:\n",
    "            print(nums)\n",
    "        else:\n",
    "            print(\"invalid argument\")"
   ]
  },
  {
   "cell_type": "code",
   "execution_count": null,
   "id": "e19b7fee",
   "metadata": {},
   "outputs": [],
   "source": [
    "for i in [4,5,6]:\n",
    "    for j in [8,9,10]:\n",
    "        print(i)"
   ]
  },
  {
   "cell_type": "code",
   "execution_count": null,
   "id": "770c7c63",
   "metadata": {},
   "outputs": [],
   "source": [
    "a = np.array([\"foo\", \"foo\", \"foo\", \"foo\",\n",
    "                 \"bar\", \"bar\", \"bar\", \"bar\",\n",
    "                 \"foo\", \"foo\", \"foo\"],\n",
    "                dtype=object)"
   ]
  },
  {
   "cell_type": "code",
   "execution_count": 1,
   "id": "ae234fc2",
   "metadata": {},
   "outputs": [
    {
     "name": "stdout",
     "output_type": "stream",
     "text": [
      "625\n"
     ]
    }
   ],
   "source": [
    "sum=0\n",
    "for i in range(1,50,2):\n",
    "    sum+=i\n",
    "print(sum)\n"
   ]
  },
  {
   "cell_type": "code",
   "execution_count": null,
   "id": "c7d70aa7",
   "metadata": {},
   "outputs": [],
   "source": [
    "str1=input(\"Enter a string: \")\n",
    "if len(str1)>=3:\n",
    "    if str1[-3:]=='ing':    \n",
    "        \n",
    "        print(str1.replace(str1[-3:],'ly')) ### print command should be given in separate\n",
    "    else:\n",
    "        print(str1+\"ing\")\n",
    "else:\n",
    "    print(str1)"
   ]
  },
  {
   "cell_type": "code",
   "execution_count": null,
   "id": "67132d3c",
   "metadata": {},
   "outputs": [],
   "source": [
    "\n",
    "List1=[5,6,7,8,9,10]\n",
    "List1.pop(5)\n",
    "List1.pop(4)\n",
    "List1.pop(0)\n",
    "print(List1)"
   ]
  },
  {
   "cell_type": "markdown",
   "id": "6aea8728",
   "metadata": {},
   "source": [
    "#### Write a program to find whether a number is amstrong number or not?"
   ]
  },
  {
   "cell_type": "code",
   "execution_count": null,
   "id": "1647f20f",
   "metadata": {},
   "outputs": [],
   "source": [
    "\n",
    "def Amstrong(No):\n",
    "    amstrong_sum=0\n",
    "    num_str=str(No)\n",
    "    for i in num_str:\n",
    "        armstrong_sum+=int(i)**len(num_str)\n",
    "    return amstrong_sum==No\n",
    "number=int(input(\"Enter a number:\"))\n",
    "if Amstrong(number):\n",
    "    print(\"yes\")\n",
    "else:\n",
    "    print(\"not\")    \n",
    "    "
   ]
  },
  {
   "cell_type": "code",
   "execution_count": null,
   "id": "5405d6cd",
   "metadata": {},
   "outputs": [],
   "source": [
    "407  equals 4^3 + 0^3 + 7^3\n",
    "cube equals four cube plus zero cube seven cube 43"
   ]
  },
  {
   "cell_type": "code",
   "execution_count": null,
   "id": "31189eac",
   "metadata": {},
   "outputs": [],
   "source": [
    "def Anagram(str1,str2):\n",
    "    \n",
    "    str1=str1.replace(\" \",\" \").lower()\n",
    "    str2=str2.replace(\" \",\" \").lower()\n",
    "    \n",
    "    return sorted(str1)==sorted(str2)\n",
    "\n",
    "str3=(input(\"1st word: \"))\n",
    "str4=(input(\"2nd word:\"))\n",
    "\n",
    "if Anagram(str3,str4):\n",
    "    print(\"Yes\")\n",
    "else:\n",
    "    print(\"No\")"
   ]
  },
  {
   "cell_type": "code",
   "execution_count": null,
   "id": "6e65ab29",
   "metadata": {},
   "outputs": [],
   "source": [
    "No=int(input(\"Number\"))\n",
    "for i in No:\n",
    "    begin=(No//10)\n",
    "    end=(No%10)\n",
    "print(begin)\n",
    "print(end)"
   ]
  },
  {
   "cell_type": "code",
   "execution_count": null,
   "id": "29b18643",
   "metadata": {},
   "outputs": [],
   "source": [
    "string anagram or not LISTEN\n",
    "                       SILENT"
   ]
  },
  {
   "cell_type": "code",
   "execution_count": null,
   "id": "ca4de832",
   "metadata": {},
   "outputs": [],
   "source": [
    "def Fibonacci(L1):\n",
    "    if len(L1)<3:\n",
    "        return False\n",
    "    \n",
    "    if L1[0] != 0 or L1 [1] != 1:\n",
    "        return False\n",
    "    \n",
    "    for i in range(2,len(L1)):\n",
    "        if L1[i]!=L1[i-1]+L1[i-2]:\n",
    "            return False\n",
    "    return True\n",
    "L2=[0,1,1,2,3,5,8,13]\n",
    "if Fibonacci(L1):\n",
    "    print(\"Yes\")\n",
    "else:\n",
    "    print(\"No\")"
   ]
  },
  {
   "cell_type": "code",
   "execution_count": null,
   "id": "286d2a66",
   "metadata": {},
   "outputs": [],
   "source": [
    "def GCD(x,y):\n",
    "    if y==0:\n",
    "        return x\n",
    "    else:\n",
    "        return GCD(x,x%y)\n",
    "    \n",
    "\n",
    "num1=int(input(\" \"))\n",
    "num2=int(input(\"\"))\n",
    "result=GCD(num1,num2)\n",
    "print(result)"
   ]
  },
  {
   "cell_type": "markdown",
   "id": "b828d21d",
   "metadata": {},
   "source": [
    "Write a Python program that accepts a hyphen-separated sequence of words as input and prints the words in a hyphen-separated sequence after sorting them alphabetically. Sample Items : green-red-yellow-black-white"
   ]
  },
  {
   "cell_type": "code",
   "execution_count": null,
   "id": "d1e37aee",
   "metadata": {},
   "outputs": [],
   "source": [
    "items=[n for n in input().split('-')]\n",
    "items.sort()\n",
    "print('-'.join(items))"
   ]
  },
  {
   "cell_type": "markdown",
   "id": "65dc0700",
   "metadata": {},
   "source": [
    "10.Write a Python function to check whether a string is a pangram or not."
   ]
  },
  {
   "cell_type": "code",
   "execution_count": null,
   "id": "ec313cdc",
   "metadata": {},
   "outputs": [],
   "source": [
    "import string, sys\n",
    "def ispangram(str1, alphabet=string.ascii_lowercase):\n",
    "    alphaset = set(alphabet)\n",
    "    return alphaset <= set(str1.lower())\n",
    " \n",
    "print ( ispangram('The quick brown fox jumps over the lazy dog')) "
   ]
  },
  {
   "cell_type": "code",
   "execution_count": null,
   "id": "a8126e25",
   "metadata": {},
   "outputs": [],
   "source": [
    "Write a Python function that checks whether a passed string is a palindrome or not."
   ]
  },
  {
   "cell_type": "code",
   "execution_count": null,
   "id": "6cadf13d",
   "metadata": {},
   "outputs": [],
   "source": [
    "#Define a function \n",
    "def isPalindrome(str1): \n",
    "    if (str1 == str1[::-1]) : \n",
    "        return \"The string is a palindrome.\" \n",
    "    else: \n",
    "        return \"The string is not a palindrome.\" \n",
    " \n",
    "#Enter input string \n",
    "str1 = input (\"Enter string: \") \n",
    " \n",
    "print(isPalindrome(str1)) "
   ]
  },
  {
   "cell_type": "code",
   "execution_count": null,
   "id": "be47bcc5",
   "metadata": {},
   "outputs": [],
   "source": [
    "Write a Python function to check whether a number is \"Perfect\" or not."
   ]
  },
  {
   "cell_type": "code",
   "execution_count": null,
   "id": "32e09594",
   "metadata": {},
   "outputs": [],
   "source": [
    "def perfect_number(n):\n",
    "    sum = 0\n",
    "    \n",
    "    for i in range(1, n):\n",
    "        if n % i == 0:\n",
    "            sum += i\n",
    "            \n",
    "    return sum == n\n",
    "print(perfect_number(6))\n"
   ]
  },
  {
   "cell_type": "code",
   "execution_count": null,
   "id": "c0864a90",
   "metadata": {},
   "outputs": [],
   "source": [
    "unction that takes a number as a parameter an"
   ]
  },
  {
   "cell_type": "code",
   "execution_count": null,
   "id": "6e0b484e",
   "metadata": {},
   "outputs": [],
   "source": [
    "def test_prime(n):\n",
    "    if (n==1):\n",
    "        return False\n",
    "    elif (n==2):\n",
    "        return True;\n",
    "    else:\n",
    "        for i in range(2,n):\n",
    "            if(n % i==0):\n",
    "                return False\n",
    "        return True\n",
    "n=int(input(\"no\"))\n",
    "print(test_prime(n))"
   ]
  },
  {
   "cell_type": "code",
   "execution_count": null,
   "id": "cc7a7930",
   "metadata": {},
   "outputs": [],
   "source": [
    " a Python function that takes a list and returns a new list with distinct elements from the first list. Sample List : [1,2,3,3,3,3,4,5]"
   ]
  },
  {
   "cell_type": "code",
   "execution_count": null,
   "id": "14135d54",
   "metadata": {},
   "outputs": [],
   "source": [
    "def unique(L1):\n",
    "    x = []\n",
    "    for i in L1:\n",
    "        if i not in x:\n",
    "            x.append(i)\n",
    "    return x\n",
    "\n",
    "print(unique([1,2,3,3,3,3,4,5])) "
   ]
  },
  {
   "cell_type": "code",
   "execution_count": null,
   "id": "5e253e8e",
   "metadata": {},
   "outputs": [],
   "source": [
    "thon function that accepts a string and counts the number of upper and lower case letters. Sample String : 'The quick Brow Fox'"
   ]
  },
  {
   "cell_type": "code",
   "execution_count": null,
   "id": "3c4ae13a",
   "metadata": {},
   "outputs": [],
   "source": [
    "def upperlower(str1):\n",
    "    d={\"UPPER\":0, \"LOWER\":0}\n",
    "    for i in str1:\n",
    "        if i.isupper():\n",
    "           d[\"UPPER\"]+=1\n",
    "        elif i.islower():\n",
    "           d[\"LOWER\"]+=1\n",
    "        else:\n",
    "           pass\n",
    "    print (\"Lower case Characters : \", d[\"LOWER\"])\n",
    "         \n",
    "    print (\"UPPER case Characters : \", d[\"UPPER\"])\n",
    "\n",
    "\n",
    "upperlower('The quick Brown Fox')"
   ]
  },
  {
   "cell_type": "code",
   "execution_count": null,
   "id": "22f19dd3",
   "metadata": {},
   "outputs": [],
   "source": [
    "Python function to check whether a number falls within a given range."
   ]
  },
  {
   "cell_type": "code",
   "execution_count": null,
   "id": "62e7ffde",
   "metadata": {},
   "outputs": [],
   "source": [
    "def isinrange(n):\n",
    "    \n",
    "    \n",
    "    if n in range(1,101):\n",
    "        print(\"yes it is in range\" )\n",
    "    else:\n",
    "        print(\"not in range\" )\n",
    "\n",
    "n=int(input(\"enter no\"))\n",
    "test_range(n)"
   ]
  },
  {
   "cell_type": "code",
   "execution_count": null,
   "id": "9391d4b6",
   "metadata": {},
   "outputs": [],
   "source": [
    "Python function to calculate the factorial of a number (a non-negative integer). The function accepts the number as an argument."
   ]
  },
  {
   "cell_type": "code",
   "execution_count": null,
   "id": "13f40419",
   "metadata": {},
   "outputs": [],
   "source": [
    "def factorial(n):\n",
    "    if n == 0:\n",
    "        return 1\n",
    "    \n",
    "    else:\n",
    "        return n * factorial(n-1)  \n",
    "\n",
    "    \n",
    "    n=int(input(\"Input a number to compute the factiorial : \"))\n",
    "print(factorial(n))"
   ]
  },
  {
   "cell_type": "code",
   "execution_count": null,
   "id": "00042306",
   "metadata": {},
   "outputs": [],
   "source": [
    "n function to multiply all the numbers in a list. Sample List : (8, 2, 3, -1, 7)"
   ]
  },
  {
   "cell_type": "code",
   "execution_count": null,
   "id": "0c84bc3f",
   "metadata": {},
   "outputs": [],
   "source": [
    "def multiply(numbers):  \n",
    "    total = 1\n",
    "    for x in numbers:\n",
    "        total *= x  \n",
    "    return total  \n",
    "print(multiply((8, 2, 3, -1, 7)))"
   ]
  },
  {
   "cell_type": "code",
   "execution_count": null,
   "id": "020c8e74",
   "metadata": {},
   "outputs": [],
   "source": [
    "L2=list((input(\"enter list\")))"
   ]
  },
  {
   "cell_type": "code",
   "execution_count": null,
   "id": "f79ef599",
   "metadata": {},
   "outputs": [],
   "source": [
    "L2"
   ]
  },
  {
   "cell_type": "code",
   "execution_count": null,
   "id": "b7293c47",
   "metadata": {},
   "outputs": [],
   "source": [
    "Write a Python function to sum all the numbers in a list. Sample List : (8, 2, 3, 0, 7)"
   ]
  },
  {
   "cell_type": "code",
   "execution_count": null,
   "id": "9e416d34",
   "metadata": {},
   "outputs": [],
   "source": [
    "def sum(numbers):\n",
    "    total = 0\n",
    "    for i in numbers:\n",
    "        total += i\n",
    "    return total   \n",
    "\n",
    "print(sum((8, 2, 3, 0, 7)))\n"
   ]
  },
  {
   "cell_type": "code",
   "execution_count": null,
   "id": "48fd2b0d",
   "metadata": {},
   "outputs": [],
   "source": []
  }
 ],
 "metadata": {
  "kernelspec": {
   "display_name": "Python 3 (ipykernel)",
   "language": "python",
   "name": "python3"
  },
  "language_info": {
   "codemirror_mode": {
    "name": "ipython",
    "version": 3
   },
   "file_extension": ".py",
   "mimetype": "text/x-python",
   "name": "python",
   "nbconvert_exporter": "python",
   "pygments_lexer": "ipython3",
   "version": "3.9.13"
  }
 },
 "nbformat": 4,
 "nbformat_minor": 5
}
